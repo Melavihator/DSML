{
 "cells": [
  {
   "cell_type": "code",
   "execution_count": 2,
   "id": "9d4bfe00-91d9-4d0e-8837-6f17148401d9",
   "metadata": {},
   "outputs": [
    {
     "data": {
      "text/html": [
       "<div>\n",
       "<style scoped>\n",
       "    .dataframe tbody tr th:only-of-type {\n",
       "        vertical-align: middle;\n",
       "    }\n",
       "\n",
       "    .dataframe tbody tr th {\n",
       "        vertical-align: top;\n",
       "    }\n",
       "\n",
       "    .dataframe thead th {\n",
       "        text-align: right;\n",
       "    }\n",
       "</style>\n",
       "<table border=\"1\" class=\"dataframe\">\n",
       "  <thead>\n",
       "    <tr style=\"text-align: right;\">\n",
       "      <th></th>\n",
       "      <th>Unnamed: 0</th>\n",
       "      <th>ID</th>\n",
       "      <th>Name</th>\n",
       "      <th>Age</th>\n",
       "      <th>Photo</th>\n",
       "      <th>Nationality</th>\n",
       "      <th>Flag</th>\n",
       "      <th>Overall</th>\n",
       "      <th>Potential</th>\n",
       "      <th>Club</th>\n",
       "      <th>...</th>\n",
       "      <th>Composure</th>\n",
       "      <th>Marking</th>\n",
       "      <th>StandingTackle</th>\n",
       "      <th>SlidingTackle</th>\n",
       "      <th>GKDiving</th>\n",
       "      <th>GKHandling</th>\n",
       "      <th>GKKicking</th>\n",
       "      <th>GKPositioning</th>\n",
       "      <th>GKReflexes</th>\n",
       "      <th>Release Clause</th>\n",
       "    </tr>\n",
       "  </thead>\n",
       "  <tbody>\n",
       "    <tr>\n",
       "      <th>0</th>\n",
       "      <td>0</td>\n",
       "      <td>158023</td>\n",
       "      <td>L. Messi</td>\n",
       "      <td>31</td>\n",
       "      <td>https://cdn.sofifa.org/players/4/19/158023.png</td>\n",
       "      <td>Argentina</td>\n",
       "      <td>https://cdn.sofifa.org/flags/52.png</td>\n",
       "      <td>94</td>\n",
       "      <td>94</td>\n",
       "      <td>FC Barcelona</td>\n",
       "      <td>...</td>\n",
       "      <td>96.0</td>\n",
       "      <td>33.0</td>\n",
       "      <td>28.0</td>\n",
       "      <td>26.0</td>\n",
       "      <td>6.0</td>\n",
       "      <td>11.0</td>\n",
       "      <td>15.0</td>\n",
       "      <td>14.0</td>\n",
       "      <td>8.0</td>\n",
       "      <td>€226.5M</td>\n",
       "    </tr>\n",
       "    <tr>\n",
       "      <th>1</th>\n",
       "      <td>1</td>\n",
       "      <td>20801</td>\n",
       "      <td>Cristiano Ronaldo</td>\n",
       "      <td>33</td>\n",
       "      <td>https://cdn.sofifa.org/players/4/19/20801.png</td>\n",
       "      <td>Portugal</td>\n",
       "      <td>https://cdn.sofifa.org/flags/38.png</td>\n",
       "      <td>94</td>\n",
       "      <td>94</td>\n",
       "      <td>Juventus</td>\n",
       "      <td>...</td>\n",
       "      <td>95.0</td>\n",
       "      <td>28.0</td>\n",
       "      <td>31.0</td>\n",
       "      <td>23.0</td>\n",
       "      <td>7.0</td>\n",
       "      <td>11.0</td>\n",
       "      <td>15.0</td>\n",
       "      <td>14.0</td>\n",
       "      <td>11.0</td>\n",
       "      <td>€127.1M</td>\n",
       "    </tr>\n",
       "    <tr>\n",
       "      <th>2</th>\n",
       "      <td>2</td>\n",
       "      <td>190871</td>\n",
       "      <td>Neymar Jr</td>\n",
       "      <td>26</td>\n",
       "      <td>https://cdn.sofifa.org/players/4/19/190871.png</td>\n",
       "      <td>Brazil</td>\n",
       "      <td>https://cdn.sofifa.org/flags/54.png</td>\n",
       "      <td>92</td>\n",
       "      <td>93</td>\n",
       "      <td>Paris Saint-Germain</td>\n",
       "      <td>...</td>\n",
       "      <td>94.0</td>\n",
       "      <td>27.0</td>\n",
       "      <td>24.0</td>\n",
       "      <td>33.0</td>\n",
       "      <td>9.0</td>\n",
       "      <td>9.0</td>\n",
       "      <td>15.0</td>\n",
       "      <td>15.0</td>\n",
       "      <td>11.0</td>\n",
       "      <td>€228.1M</td>\n",
       "    </tr>\n",
       "    <tr>\n",
       "      <th>3</th>\n",
       "      <td>3</td>\n",
       "      <td>193080</td>\n",
       "      <td>De Gea</td>\n",
       "      <td>27</td>\n",
       "      <td>https://cdn.sofifa.org/players/4/19/193080.png</td>\n",
       "      <td>Spain</td>\n",
       "      <td>https://cdn.sofifa.org/flags/45.png</td>\n",
       "      <td>91</td>\n",
       "      <td>93</td>\n",
       "      <td>Manchester United</td>\n",
       "      <td>...</td>\n",
       "      <td>68.0</td>\n",
       "      <td>15.0</td>\n",
       "      <td>21.0</td>\n",
       "      <td>13.0</td>\n",
       "      <td>90.0</td>\n",
       "      <td>85.0</td>\n",
       "      <td>87.0</td>\n",
       "      <td>88.0</td>\n",
       "      <td>94.0</td>\n",
       "      <td>€138.6M</td>\n",
       "    </tr>\n",
       "    <tr>\n",
       "      <th>4</th>\n",
       "      <td>4</td>\n",
       "      <td>192985</td>\n",
       "      <td>K. De Bruyne</td>\n",
       "      <td>27</td>\n",
       "      <td>https://cdn.sofifa.org/players/4/19/192985.png</td>\n",
       "      <td>Belgium</td>\n",
       "      <td>https://cdn.sofifa.org/flags/7.png</td>\n",
       "      <td>91</td>\n",
       "      <td>92</td>\n",
       "      <td>Manchester City</td>\n",
       "      <td>...</td>\n",
       "      <td>88.0</td>\n",
       "      <td>68.0</td>\n",
       "      <td>58.0</td>\n",
       "      <td>51.0</td>\n",
       "      <td>15.0</td>\n",
       "      <td>13.0</td>\n",
       "      <td>5.0</td>\n",
       "      <td>10.0</td>\n",
       "      <td>13.0</td>\n",
       "      <td>€196.4M</td>\n",
       "    </tr>\n",
       "  </tbody>\n",
       "</table>\n",
       "<p>5 rows × 89 columns</p>\n",
       "</div>"
      ],
      "text/plain": [
       "   Unnamed: 0      ID               Name  Age  \\\n",
       "0           0  158023           L. Messi   31   \n",
       "1           1   20801  Cristiano Ronaldo   33   \n",
       "2           2  190871          Neymar Jr   26   \n",
       "3           3  193080             De Gea   27   \n",
       "4           4  192985       K. De Bruyne   27   \n",
       "\n",
       "                                            Photo Nationality  \\\n",
       "0  https://cdn.sofifa.org/players/4/19/158023.png   Argentina   \n",
       "1   https://cdn.sofifa.org/players/4/19/20801.png    Portugal   \n",
       "2  https://cdn.sofifa.org/players/4/19/190871.png      Brazil   \n",
       "3  https://cdn.sofifa.org/players/4/19/193080.png       Spain   \n",
       "4  https://cdn.sofifa.org/players/4/19/192985.png     Belgium   \n",
       "\n",
       "                                  Flag  Overall  Potential  \\\n",
       "0  https://cdn.sofifa.org/flags/52.png       94         94   \n",
       "1  https://cdn.sofifa.org/flags/38.png       94         94   \n",
       "2  https://cdn.sofifa.org/flags/54.png       92         93   \n",
       "3  https://cdn.sofifa.org/flags/45.png       91         93   \n",
       "4   https://cdn.sofifa.org/flags/7.png       91         92   \n",
       "\n",
       "                  Club  ... Composure Marking StandingTackle  SlidingTackle  \\\n",
       "0         FC Barcelona  ...      96.0    33.0           28.0           26.0   \n",
       "1             Juventus  ...      95.0    28.0           31.0           23.0   \n",
       "2  Paris Saint-Germain  ...      94.0    27.0           24.0           33.0   \n",
       "3    Manchester United  ...      68.0    15.0           21.0           13.0   \n",
       "4      Manchester City  ...      88.0    68.0           58.0           51.0   \n",
       "\n",
       "  GKDiving  GKHandling  GKKicking  GKPositioning GKReflexes Release Clause  \n",
       "0      6.0        11.0       15.0           14.0        8.0        €226.5M  \n",
       "1      7.0        11.0       15.0           14.0       11.0        €127.1M  \n",
       "2      9.0         9.0       15.0           15.0       11.0        €228.1M  \n",
       "3     90.0        85.0       87.0           88.0       94.0        €138.6M  \n",
       "4     15.0        13.0        5.0           10.0       13.0        €196.4M  \n",
       "\n",
       "[5 rows x 89 columns]"
      ]
     },
     "execution_count": 2,
     "metadata": {},
     "output_type": "execute_result"
    }
   ],
   "source": [
    "import pandas as pd\n",
    "\n",
    "# Load the dataset\n",
    "file_path = \"C:/Users/HP LAPTOP/Downloads/fifa_data.csv\"\n",
    "data = pd.read_csv(file_path)\n",
    "\n",
    "\n",
    "# Show the first few rows of the dataframe to understand its structure\n",
    "data.head()\n"
   ]
  },
  {
   "cell_type": "code",
   "execution_count": 6,
   "id": "3ad22b6f-c14b-49d4-88f9-37915cd804fd",
   "metadata": {},
   "outputs": [
    {
     "data": {
      "text/plain": [
       "('England', 1662)"
      ]
     },
     "execution_count": 6,
     "metadata": {},
     "output_type": "execute_result"
    }
   ],
   "source": [
    "# Creating DataFrame\n",
    "df = pd.DataFrame(data)\n",
    "\n",
    "# Find which country has the most number of players\n",
    "player_counts = df['Nationality'].value_counts()\n",
    "\n",
    "# Extract the country with the most players\n",
    "most_players_country = player_counts.idxmax()\n",
    "most_players_count = player_counts.max()\n",
    "\n",
    "# Display the result\n",
    "most_players_country, most_players_count"
   ]
  },
  {
   "cell_type": "code",
   "execution_count": 7,
   "id": "88ef766e-055b-4f28-8d08-3d2d452893f3",
   "metadata": {},
   "outputs": [
    {
     "name": "stdout",
     "output_type": "stream",
     "text": [
      "Top 5 countries with the highest number of players:\n",
      "Nationality\n",
      "England      1662\n",
      "Germany      1198\n",
      "Spain        1072\n",
      "Argentina     937\n",
      "France        914\n",
      "Name: count, dtype: int64\n"
     ]
    }
   ],
   "source": [
    "# Finding which country has the most number of players\n",
    "player_counts = data['Nationality'].value_counts()\n",
    "\n",
    "# Extract the top 5 countries with the highest number of players\n",
    "top_5_countries = player_counts.head(5)\n",
    "\n",
    "# Display the top 5 countries with their player counts\n",
    "print(\"Top 5 countries with the highest number of players:\")\n",
    "print(top_5_countries)\n"
   ]
  },
  {
   "cell_type": "code",
   "execution_count": 8,
   "id": "a53bc5d3-0b24-4b95-9b46-eaad12793810",
   "metadata": {},
   "outputs": [
    {
     "data": {
      "image/png": "[encoded data removed]",
      "text/plain": [
       "<Figure size 1000x600 with 1 Axes>"
      ]
     },
     "metadata": {},
     "output_type": "display_data"
    }
   ],
   "source": [
    "import pandas as pd\n",
    "import matplotlib.pyplot as plt\n",
    "\n",
    "# Load the dataset\n",
    "file_path = \"C:/Users/HP LAPTOP/Downloads/fifa_data.csv\"\n",
    "data = pd.read_csv(file_path)\n",
    "\n",
    "# Find the player count for each country\n",
    "player_counts = data['Nationality'].value_counts()\n",
    "\n",
    "# Select the top 5 countries\n",
    "top_5_countries = player_counts.head(5)\n",
    "\n",
    "# Plot the bar chart\n",
    "plt.figure(figsize=(10, 6))\n",
    "top_5_countries.plot(kind='bar', color='skyblue')\n",
    "plt.xlabel('Countries')\n",
    "plt.ylabel('Number of Players')\n",
    "plt.title('Top 5 Countries with the Most Number of Players')\n",
    "plt.xticks(rotation=45)\n",
    "plt.tight_layout()\n",
    "plt.show()\n"
   ]
  },
  {
   "cell_type": "code",
   "execution_count": 9,
   "id": "9682d0a1-992c-4bef-b2fb-c4875fe583f7",
   "metadata": {},
   "outputs": [
    {
     "name": "stdout",
     "output_type": "stream",
     "text": [
      "Player with the highest salary:\n",
      "Unnamed: 0                                                  1071\n",
      "ID                                                        139668\n",
      "Name                                                F. Marchetti\n",
      "Age                                                           35\n",
      "Photo             https://cdn.sofifa.org/players/4/19/139668.png\n",
      "                                       ...                      \n",
      "GKHandling                                                  76.0\n",
      "GKKicking                                                   65.0\n",
      "GKPositioning                                               77.0\n",
      "GKReflexes                                                  78.0\n",
      "Release Clause                                             €3.6M\n",
      "Name: 1071, Length: 89, dtype: object\n"
     ]
    }
   ],
   "source": [
    "\n",
    "\n",
    "# Find the index of the player with the highest salary\n",
    "highest_salary_index = data['Wage'].idxmax()\n",
    "\n",
    "# Get the player's information using the index\n",
    "player_with_highest_salary = data.loc[highest_salary_index]\n",
    "\n",
    "# Display the player's information\n",
    "print(\"Player with the highest salary:\")\n",
    "print(player_with_highest_salary)\n"
   ]
  },
  {
   "cell_type": "code",
   "execution_count": 11,
   "id": "bebdb449-9664-420e-a2ca-fbb41641a252",
   "metadata": {},
   "outputs": [
    {
     "data": {
      "image/png": "[encoded data removed]",
      "text/plain": [
       "<Figure size 500x300 with 1 Axes>"
      ]
     },
     "metadata": {},
     "output_type": "display_data"
    }
   ],
   "source": [
    "\n",
    "# Extract the salary data\n",
    "salaries = data['Wage']\n",
    "\n",
    "# Plot the histogram\n",
    "plt.figure(figsize=(5, 3))\n",
    "plt.hist(salaries, bins=20, color='skyblue', edgecolor='yellow')\n",
    "plt.xlabel('Salary')\n",
    "plt.ylabel('Frequency')\n",
    "plt.title('Salary Distribution of Players')\n",
    "plt.grid(True)\n",
    "plt.tight_layout()\n",
    "plt.show()\n"
   ]
  },
  {
   "cell_type": "code",
   "execution_count": 49,
   "id": "346f797f-0c26-463e-b1a6-7632a8f5fdef",
   "metadata": {},
   "outputs": [
    {
     "data": {
      "text/html": [
       "<div>\n",
       "<style scoped>\n",
       "    .dataframe tbody tr th:only-of-type {\n",
       "        vertical-align: middle;\n",
       "    }\n",
       "\n",
       "    .dataframe tbody tr th {\n",
       "        vertical-align: top;\n",
       "    }\n",
       "\n",
       "    .dataframe thead th {\n",
       "        text-align: right;\n",
       "    }\n",
       "</style>\n",
       "<table border=\"1\" class=\"dataframe\">\n",
       "  <thead>\n",
       "    <tr style=\"text-align: right;\">\n",
       "      <th></th>\n",
       "      <th>Name</th>\n",
       "      <th>Height</th>\n",
       "    </tr>\n",
       "  </thead>\n",
       "  <tbody>\n",
       "    <tr>\n",
       "      <th>0</th>\n",
       "      <td>L. Messi</td>\n",
       "      <td>-1</td>\n",
       "    </tr>\n",
       "    <tr>\n",
       "      <th>12128</th>\n",
       "      <td>R. Flynn</td>\n",
       "      <td>-1</td>\n",
       "    </tr>\n",
       "  </tbody>\n",
       "</table>\n",
       "</div>"
      ],
      "text/plain": [
       "           Name  Height\n",
       "0      L. Messi      -1\n",
       "12128  R. Flynn      -1"
      ]
     },
     "execution_count": 49,
     "metadata": {},
     "output_type": "execute_result"
    }
   ],
   "source": [
    "\n",
    "ht=data.sort_values(by=[\"Height\"], ascending=True)\n",
    "ht[['Name', 'Height']].head(2)\n",
    "\n"
   ]
  },
  {
   "cell_type": "code",
   "execution_count": 39,
   "id": "d80c65ee-de37-4ada-98c2-7df6c18095d0",
   "metadata": {},
   "outputs": [
    {
     "name": "stdout",
     "output_type": "stream",
     "text": [
      "Club with the most number of players: FC Barcelona\n",
      "Number of players in the club: 33\n"
     ]
    }
   ],
   "source": []
  },
  {
   "cell_type": "code",
   "execution_count": 40,
   "id": "e603d85f-b8f1-484d-aca2-e6ffb8a66f8e",
   "metadata": {},
   "outputs": [
    {
     "data": {
      "image/png": "[encoded data removed]",
      "text/plain": [
       "<Figure size 800x600 with 1 Axes>"
      ]
     },
     "metadata": {},
     "output_type": "display_data"
    },
    {
     "name": "stdout",
     "output_type": "stream",
     "text": [
      "Most preferred foot by the players: Right\n"
     ]
    }
   ],
   "source": [
    "import pandas as pd\n",
    "import matplotlib.pyplot as plt\n",
    "\n",
    "# Load the dataset\n",
    "file_path = \"C:/Users/HP LAPTOP/Downloads/fifa_data.csv\"\n",
    "data = pd.read_csv(file_path)\n",
    "\n",
    "# Count the occurrences of each foot preference\n",
    "foot_counts = data['Preferred Foot'].value_counts()\n",
    "\n",
    "# Plot a bar chart for preferred foot\n",
    "plt.figure(figsize=(8, 6))\n",
    "foot_counts.plot(kind='bar', color='skyblue')\n",
    "plt.title('Preferred Foot of Players')\n",
    "plt.xlabel('Preferred Foot')\n",
    "plt.ylabel('Number of Players')\n",
    "plt.xticks(rotation=0)  \n",
    "plt.grid(axis='y')\n",
    "plt.show()\n",
    "\n",
    "most_preferred_foot = foot_counts.idxmax()\n",
    "print(\"Most preferred foot by the players:\", most_preferred_foot)\n"
   ]
  },
  {
   "cell_type": "code",
   "execution_count": null,
   "id": "98d9bdca-0978-43d8-9e57-e98cd16151ad",
   "metadata": {},
   "outputs": [],
   "source": [
    "Data Story\n",
    "1. Country with most player count = ('England', 1662)\n",
    "\n",
    "2. Top 5 countries with the highest number of players:\n",
    "Nationality\n",
    "England      1662\n",
    "Germany      1198\n",
    "Spain        1072\n",
    "Argentina     937\n",
    "France        914\n",
    "\n",
    "3. Player with the highest salary:\n",
    "Unnamed: 0                                                  1071\n",
    "ID                                                        139668\n",
    "Name                                                F. Marchetti\n",
    "Age                                                           35\n",
    "Photo             https://cdn.sofifa.org/players/4/19/139668.png\n",
    "                                       ...                      \n",
    "GKHandling                                                  76.0\n",
    "GKKicking                                                   65.0\n",
    "GKPositioning                                               77.0\n",
    "GKReflexes                                                  78.0\n",
    "Release Clause                                             €3.6M\n",
    "\n",
    "4. \tHeight\n",
    "L. Messi\t-1\n",
    "R. Flynn\t-1\n",
    "\n",
    "5. Club with the most number of players: FC Barcelona\n",
    "Number of players in the club: 33\n",
    "\n",
    "6. Most preffered foot for players is right"
   ]
  }
 ],
 "metadata": {
  "kernelspec": {
   "display_name": "Python 3 (ipykernel)",
   "language": "python",
   "name": "python3"
  },
  "language_info": {
   "codemirror_mode": {
    "name": "ipython",
    "version": 3
   },
   "file_extension": ".py",
   "mimetype": "text/x-python",
   "name": "python",
   "nbconvert_exporter": "python",
   "pygments_lexer": "ipython3",
   "version": "3.11.7"
  }
 },
 "nbformat": 4,
 "nbformat_minor": 5
}
